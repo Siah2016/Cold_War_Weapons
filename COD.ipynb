{
 "cells": [
  {
   "cell_type": "markdown",
   "metadata": {},
   "source": [
    "## Data Cleaning Call of Duty Cold War Weapons"
   ]
  },
  {
   "cell_type": "code",
   "execution_count": 28,
   "metadata": {},
   "outputs": [],
   "source": [
    "import pandas as pd"
   ]
  },
  {
   "cell_type": "markdown",
   "metadata": {},
   "source": [
    "### Creating DataFrame from CSV file"
   ]
  },
  {
   "cell_type": "code",
   "execution_count": 41,
   "metadata": {},
   "outputs": [
    {
     "data": {
      "text/html": [
       "<div>\n",
       "<style scoped>\n",
       "    .dataframe tbody tr th:only-of-type {\n",
       "        vertical-align: middle;\n",
       "    }\n",
       "\n",
       "    .dataframe tbody tr th {\n",
       "        vertical-align: top;\n",
       "    }\n",
       "\n",
       "    .dataframe thead th {\n",
       "        text-align: right;\n",
       "    }\n",
       "</style>\n",
       "<table border=\"1\" class=\"dataframe\">\n",
       "  <thead>\n",
       "    <tr style=\"text-align: right;\">\n",
       "      <th></th>\n",
       "      <th>Name</th>\n",
       "      <th>Category</th>\n",
       "      <th>Type</th>\n",
       "      <th>Details</th>\n",
       "      <th>Unlocked Level</th>\n",
       "      <th>Magazine Size</th>\n",
       "      <th>Firepower %</th>\n",
       "      <th>Speed %</th>\n",
       "      <th>Accuracy %</th>\n",
       "      <th>Ammo %</th>\n",
       "    </tr>\n",
       "  </thead>\n",
       "  <tbody>\n",
       "    <tr>\n",
       "      <th>0</th>\n",
       "      <td>XM4</td>\n",
       "      <td>Assault Rifles</td>\n",
       "      <td>Primary</td>\n",
       "      <td>Full-auto assault rifle. Reliable damage with ...</td>\n",
       "      <td>Default</td>\n",
       "      <td>30 rounds</td>\n",
       "      <td>36</td>\n",
       "      <td>40</td>\n",
       "      <td>46</td>\n",
       "      <td>30</td>\n",
       "    </tr>\n",
       "    <tr>\n",
       "      <th>1</th>\n",
       "      <td>AK-47</td>\n",
       "      <td>Assault Rifles</td>\n",
       "      <td>Primary</td>\n",
       "      <td>Full-auto assault rifle. high damage with a ma...</td>\n",
       "      <td>Level 7</td>\n",
       "      <td>30 rounds</td>\n",
       "      <td>50</td>\n",
       "      <td>35</td>\n",
       "      <td>30</td>\n",
       "      <td>33</td>\n",
       "    </tr>\n",
       "    <tr>\n",
       "      <th>2</th>\n",
       "      <td>Krig 6</td>\n",
       "      <td>Assault Rifles</td>\n",
       "      <td>Primary</td>\n",
       "      <td>Full-auto assault rifle. Improved damage and a...</td>\n",
       "      <td>Level 16</td>\n",
       "      <td>30 rounds</td>\n",
       "      <td>46</td>\n",
       "      <td>40</td>\n",
       "      <td>50</td>\n",
       "      <td>43</td>\n",
       "    </tr>\n",
       "    <tr>\n",
       "      <th>3</th>\n",
       "      <td>QBZ-83</td>\n",
       "      <td>Assault Rifles</td>\n",
       "      <td>Primary</td>\n",
       "      <td>Full-auto assault rifle. Superior mobility wit...</td>\n",
       "      <td>Level 31</td>\n",
       "      <td>30 rounds</td>\n",
       "      <td>42</td>\n",
       "      <td>50</td>\n",
       "      <td>40</td>\n",
       "      <td>35</td>\n",
       "    </tr>\n",
       "    <tr>\n",
       "      <th>4</th>\n",
       "      <td>FFAR 1</td>\n",
       "      <td>Assault Rifles</td>\n",
       "      <td>Primary</td>\n",
       "      <td>Full-auto assault rifle. Fast fire rate with q...</td>\n",
       "      <td>Level 40</td>\n",
       "      <td>25 rounds</td>\n",
       "      <td>38</td>\n",
       "      <td>43</td>\n",
       "      <td>35</td>\n",
       "      <td>40</td>\n",
       "    </tr>\n",
       "  </tbody>\n",
       "</table>\n",
       "</div>"
      ],
      "text/plain": [
       "      Name        Category     Type  \\\n",
       "0      XM4  Assault Rifles  Primary   \n",
       "1    AK-47  Assault Rifles  Primary   \n",
       "2   Krig 6  Assault Rifles  Primary   \n",
       "3   QBZ-83  Assault Rifles  Primary   \n",
       "4   FFAR 1  Assault Rifles  Primary   \n",
       "\n",
       "                                             Details Unlocked Level  \\\n",
       "0  Full-auto assault rifle. Reliable damage with ...        Default   \n",
       "1  Full-auto assault rifle. high damage with a ma...        Level 7   \n",
       "2  Full-auto assault rifle. Improved damage and a...       Level 16   \n",
       "3  Full-auto assault rifle. Superior mobility wit...       Level 31   \n",
       "4  Full-auto assault rifle. Fast fire rate with q...       Level 40   \n",
       "\n",
       "  Magazine Size  Firepower %  Speed %  Accuracy %  Ammo %  \n",
       "0     30 rounds           36       40          46      30  \n",
       "1     30 rounds           50       35          30      33  \n",
       "2     30 rounds           46       40          50      43  \n",
       "3     30 rounds           42       50          40      35  \n",
       "4     25 rounds           38       43          35      40  "
      ]
     },
     "execution_count": 41,
     "metadata": {},
     "output_type": "execute_result"
    }
   ],
   "source": [
    "df = pd.read_csv(\"Call of Duty Cold War Weapons Stats.csv\")\n",
    "\n",
    "df.head()"
   ]
  },
  {
   "cell_type": "markdown",
   "metadata": {},
   "source": [
    "### Locating Non-Nulls"
   ]
  },
  {
   "cell_type": "code",
   "execution_count": 42,
   "metadata": {},
   "outputs": [
    {
     "name": "stdout",
     "output_type": "stream",
     "text": [
      "<class 'pandas.core.frame.DataFrame'>\n",
      "RangeIndex: 64 entries, 0 to 63\n",
      "Data columns (total 10 columns):\n",
      " #   Column          Non-Null Count  Dtype \n",
      "---  ------          --------------  ----- \n",
      " 0   Name            64 non-null     object\n",
      " 1   Category        64 non-null     object\n",
      " 2   Type            64 non-null     object\n",
      " 3   Details         64 non-null     object\n",
      " 4   Unlocked Level  64 non-null     object\n",
      " 5   Magazine Size   48 non-null     object\n",
      " 6   Firepower %     64 non-null     int64 \n",
      " 7   Speed %         64 non-null     int64 \n",
      " 8   Accuracy %      64 non-null     int64 \n",
      " 9   Ammo %          64 non-null     int64 \n",
      "dtypes: int64(4), object(6)\n",
      "memory usage: 5.1+ KB\n"
     ]
    }
   ],
   "source": [
    "df.info()"
   ]
  },
  {
   "cell_type": "markdown",
   "metadata": {},
   "source": [
    "### Removing the Details Columns"
   ]
  },
  {
   "cell_type": "code",
   "execution_count": 44,
   "metadata": {},
   "outputs": [
    {
     "name": "stdout",
     "output_type": "stream",
     "text": [
      "<class 'pandas.core.frame.DataFrame'>\n",
      "RangeIndex: 64 entries, 0 to 63\n",
      "Data columns (total 8 columns):\n",
      " #   Column          Non-Null Count  Dtype \n",
      "---  ------          --------------  ----- \n",
      " 0   Name            64 non-null     object\n",
      " 1   Category        64 non-null     object\n",
      " 2   Type            64 non-null     object\n",
      " 3   Unlocked Level  64 non-null     object\n",
      " 4   Firepower %     64 non-null     int64 \n",
      " 5   Speed %         64 non-null     int64 \n",
      " 6   Accuracy %      64 non-null     int64 \n",
      " 7   Ammo %          64 non-null     int64 \n",
      "dtypes: int64(4), object(4)\n",
      "memory usage: 4.1+ KB\n"
     ]
    }
   ],
   "source": [
    "removal_df =df.drop([\"Details\", \"Magazine Size\"], axis=1)\n",
    "\n",
    "removal_df.info()"
   ]
  },
  {
   "cell_type": "markdown",
   "metadata": {},
   "source": [
    "### Checking for Duplicates"
   ]
  },
  {
   "cell_type": "code",
   "execution_count": 45,
   "metadata": {},
   "outputs": [
    {
     "data": {
      "text/html": [
       "<div>\n",
       "<style scoped>\n",
       "    .dataframe tbody tr th:only-of-type {\n",
       "        vertical-align: middle;\n",
       "    }\n",
       "\n",
       "    .dataframe tbody tr th {\n",
       "        vertical-align: top;\n",
       "    }\n",
       "\n",
       "    .dataframe thead th {\n",
       "        text-align: right;\n",
       "    }\n",
       "</style>\n",
       "<table border=\"1\" class=\"dataframe\">\n",
       "  <thead>\n",
       "    <tr style=\"text-align: right;\">\n",
       "      <th></th>\n",
       "      <th>Name</th>\n",
       "      <th>Category</th>\n",
       "      <th>Type</th>\n",
       "      <th>Unlocked Level</th>\n",
       "      <th>Firepower %</th>\n",
       "      <th>Speed %</th>\n",
       "      <th>Accuracy %</th>\n",
       "      <th>Ammo %</th>\n",
       "    </tr>\n",
       "  </thead>\n",
       "  <tbody>\n",
       "  </tbody>\n",
       "</table>\n",
       "</div>"
      ],
      "text/plain": [
       "Empty DataFrame\n",
       "Columns: [Name, Category, Type, Unlocked Level, Firepower %, Speed %, Accuracy %, Ammo %]\n",
       "Index: []"
      ]
     },
     "execution_count": 45,
     "metadata": {},
     "output_type": "execute_result"
    }
   ],
   "source": [
    "removal_df[removal_df.duplicated()]"
   ]
  },
  {
   "cell_type": "markdown",
   "metadata": {},
   "source": [
    "### Exporting to CSV file"
   ]
  },
  {
   "cell_type": "code",
   "execution_count": null,
   "metadata": {},
   "outputs": [],
   "source": []
  }
 ],
 "metadata": {
  "kernelspec": {
   "display_name": "Python 3",
   "language": "python",
   "name": "python3"
  },
  "language_info": {
   "codemirror_mode": {
    "name": "ipython",
    "version": 3
   },
   "file_extension": ".py",
   "mimetype": "text/x-python",
   "name": "python",
   "nbconvert_exporter": "python",
   "pygments_lexer": "ipython3",
   "version": "3.10.11"
  },
  "orig_nbformat": 4
 },
 "nbformat": 4,
 "nbformat_minor": 2
}
